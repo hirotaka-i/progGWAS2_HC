{
 "cells": [
  {
   "cell_type": "markdown",
   "metadata": {},
   "source": [
    "# Progression GWAS\n",
    "This is the second version of progression GWAS    \n",
    "In this version, we will use interger call"
   ]
  },
  {
   "cell_type": "markdown",
   "metadata": {},
   "source": [
    "## Genotype preparation"
   ]
  },
  {
   "cell_type": "code",
   "execution_count": 23,
   "metadata": {},
   "outputs": [],
   "source": [
    "%%bash\n",
    "# Prepare define workplace\n",
    "WORKDIR=$(pwd)\n",
    "mkdir -p /data/LNG/Hirotaka/progGWAS2nd/\n",
    "OUT=/data/LNG/Hirotaka/progGWAS2nd\n",
    "mkdir -p $OUT/temp $OUT/genotype $OUT/selected\n",
    "IN=/data/LNG/CORNELIS_TEMP/progression_GWAS"
   ]
  },
  {
   "cell_type": "code",
   "execution_count": 11,
   "metadata": {},
   "outputs": [],
   "source": [
    "%%bash\n",
    "echo '\n",
    "CORIELL\n",
    "DATATOP\n",
    "HBS\n",
    "OSLO\n",
    "PARKFIT\n",
    "PARKWEST\n",
    "PDBP\n",
    "PICNICS\n",
    "PPMI\n",
    "PRECEPT\n",
    "SCOPA\n",
    "DIGPD_chip\n",
    "DIGPD_neuroX\n",
    "' > datasets.txt"
   ]
  },
  {
   "cell_type": "code",
   "execution_count": 2,
   "metadata": {
    "collapsed": true
   },
   "outputs": [
    {
     "name": "stdout",
     "output_type": "stream",
     "text": [
      "CORIELL start\n",
      "CORIELL finish\n",
      "DATATOP start\n",
      "DATATOP finish\n",
      "HBS start\n",
      "HBS finish\n",
      "OSLO start\n",
      "OSLO finish\n",
      "PARKFIT start\n",
      "PARKFIT finish\n",
      "PARKWEST start\n",
      "PARKWEST finish\n",
      "PDBP start\n",
      "PDBP finish\n",
      "PICNICS start\n",
      "PICNICS finish\n",
      "PPMI start\n",
      "PPMI finish\n",
      "PRECEPT start\n",
      "PRECEPT finish\n",
      "SCOPA start\n",
      "SCOPA finish\n",
      "DIGPD_chip start\n",
      "DIGPD_chip finish\n",
      "DIGPD_neuroX start\n",
      "DIGPD_neuroX finish\n"
     ]
    },
    {
     "name": "stderr",
     "output_type": "stream",
     "text": [
      "cat: /data/LNG/Hirotaka/progGWAS/SNPfilter/DIGPD_chip_maf05rsq8_*.info: No such file or directory\n",
      "cat: /data/LNG/Hirotaka/progGWAS/SNPfilter/DIGPD_chip_maf05rsq8_*.txt: No such file or directory\n",
      "cat: /data/LNG/Hirotaka/progGWAS/SNPfilter/DIGPD_neuroX_maf05rsq8_*.info: No such file or directory\n",
      "cat: /data/LNG/Hirotaka/progGWAS/SNPfilter/DIGPD_neuroX_maf05rsq8_*.txt: No such file or directory\n"
     ]
    }
   ],
   "source": [
    "%%bash\n",
    "OUT=/data/LNG/Hirotaka/progGWAS2nd\n",
    "for i in $(cat datasets.txt);do\n",
    "    echo $i start\n",
    "    cat /data/LNG/Hirotaka/progGWAS/SNPfilter/\"$i\"_maf05rsq8_*.info > $OUT/genotype/\"$i\".info\n",
    "    echo $i finish\n",
    "done"
   ]
  },
  {
   "cell_type": "code",
   "execution_count": 24,
   "metadata": {},
   "outputs": [
    {
     "name": "stdout",
     "output_type": "stream",
     "text": [
      "/data/LNG/Hirotaka/progGWAS/SNPfilter/DIGPD_chip_maf05rsq8_chr1.info\n",
      "/data/LNG/Hirotaka/progGWAS/SNPfilter/DIGPD_chip_maf05rsq8_chr2.info\n",
      "/data/LNG/Hirotaka/progGWAS/SNPfilter/DIGPD_chip_maf05rsq8_chr3.info\n",
      "/data/LNG/Hirotaka/progGWAS/SNPfilter/DIGPD_chip_maf05rsq8_chr4.info\n",
      "/data/LNG/Hirotaka/progGWAS/SNPfilter/DIGPD_chip_maf05rsq8_chr5.info\n",
      "/data/LNG/Hirotaka/progGWAS/SNPfilter/DIGPD_chip_maf05rsq8_chr6.info\n",
      "/data/LNG/Hirotaka/progGWAS/SNPfilter/DIGPD_chip_maf05rsq8_chr7.info\n",
      "/data/LNG/Hirotaka/progGWAS/SNPfilter/DIGPD_chip_maf05rsq8_chr8.info\n",
      "/data/LNG/Hirotaka/progGWAS/SNPfilter/DIGPD_chip_maf05rsq8_chr9.info\n",
      "/data/LNG/Hirotaka/progGWAS/SNPfilter/DIGPD_chip_maf05rsq8_chr10.info\n",
      "/data/LNG/Hirotaka/progGWAS/SNPfilter/DIGPD_chip_maf05rsq8_chr11.info\n",
      "/data/LNG/Hirotaka/progGWAS/SNPfilter/DIGPD_chip_maf05rsq8_chr12.info\n",
      "/data/LNG/Hirotaka/progGWAS/SNPfilter/DIGPD_chip_maf05rsq8_chr13.info\n",
      "/data/LNG/Hirotaka/progGWAS/SNPfilter/DIGPD_chip_maf05rsq8_chr14.info\n",
      "/data/LNG/Hirotaka/progGWAS/SNPfilter/DIGPD_chip_maf05rsq8_chr15.info\n",
      "/data/LNG/Hirotaka/progGWAS/SNPfilter/DIGPD_chip_maf05rsq8_chr16.info\n",
      "/data/LNG/Hirotaka/progGWAS/SNPfilter/DIGPD_chip_maf05rsq8_chr17.info\n",
      "/data/LNG/Hirotaka/progGWAS/SNPfilter/DIGPD_chip_maf05rsq8_chr18.info\n",
      "/data/LNG/Hirotaka/progGWAS/SNPfilter/DIGPD_chip_maf05rsq8_chr19.info\n",
      "/data/LNG/Hirotaka/progGWAS/SNPfilter/DIGPD_chip_maf05rsq8_chr20.info\n",
      "/data/LNG/Hirotaka/progGWAS/SNPfilter/DIGPD_chip_maf05rsq8_chr21.info\n",
      "/data/LNG/Hirotaka/progGWAS/SNPfilter/DIGPD_chip_maf05rsq8_chr22.info\n",
      "/data/LNG/Hirotaka/progGWAS/SNPfilter/DIGPD_neuroX_maf05rsq8_chr1.info\n",
      "/data/LNG/Hirotaka/progGWAS/SNPfilter/DIGPD_neuroX_maf05rsq8_chr2.info\n",
      "/data/LNG/Hirotaka/progGWAS/SNPfilter/DIGPD_neuroX_maf05rsq8_chr3.info\n",
      "/data/LNG/Hirotaka/progGWAS/SNPfilter/DIGPD_neuroX_maf05rsq8_chr4.info\n",
      "/data/LNG/Hirotaka/progGWAS/SNPfilter/DIGPD_neuroX_maf05rsq8_chr5.info\n",
      "/data/LNG/Hirotaka/progGWAS/SNPfilter/DIGPD_neuroX_maf05rsq8_chr6.info\n",
      "/data/LNG/Hirotaka/progGWAS/SNPfilter/DIGPD_neuroX_maf05rsq8_chr7.info\n",
      "/data/LNG/Hirotaka/progGWAS/SNPfilter/DIGPD_neuroX_maf05rsq8_chr8.info\n",
      "/data/LNG/Hirotaka/progGWAS/SNPfilter/DIGPD_neuroX_maf05rsq8_chr9.info\n",
      "/data/LNG/Hirotaka/progGWAS/SNPfilter/DIGPD_neuroX_maf05rsq8_chr10.info\n",
      "/data/LNG/Hirotaka/progGWAS/SNPfilter/DIGPD_neuroX_maf05rsq8_chr11.info\n",
      "/data/LNG/Hirotaka/progGWAS/SNPfilter/DIGPD_neuroX_maf05rsq8_chr12.info\n",
      "/data/LNG/Hirotaka/progGWAS/SNPfilter/DIGPD_neuroX_maf05rsq8_chr13.info\n",
      "/data/LNG/Hirotaka/progGWAS/SNPfilter/DIGPD_neuroX_maf05rsq8_chr14.info\n",
      "/data/LNG/Hirotaka/progGWAS/SNPfilter/DIGPD_neuroX_maf05rsq8_chr15.info\n",
      "/data/LNG/Hirotaka/progGWAS/SNPfilter/DIGPD_neuroX_maf05rsq8_chr16.info\n",
      "/data/LNG/Hirotaka/progGWAS/SNPfilter/DIGPD_neuroX_maf05rsq8_chr17.info\n",
      "/data/LNG/Hirotaka/progGWAS/SNPfilter/DIGPD_neuroX_maf05rsq8_chr18.info\n",
      "/data/LNG/Hirotaka/progGWAS/SNPfilter/DIGPD_neuroX_maf05rsq8_chr19.info\n",
      "/data/LNG/Hirotaka/progGWAS/SNPfilter/DIGPD_neuroX_maf05rsq8_chr20.info\n",
      "/data/LNG/Hirotaka/progGWAS/SNPfilter/DIGPD_neuroX_maf05rsq8_chr21.info\n",
      "/data/LNG/Hirotaka/progGWAS/SNPfilter/DIGPD_neuroX_maf05rsq8_chr22.info\n",
      "DIGPD_chip finish\n",
      "DIGPD_neuroX finish\n"
     ]
    }
   ],
   "source": [
    "%%bash\n",
    "## DIGPD doesn't have maf filtered file\n",
    "IN=/data/LNG/CORNELIS_TEMP/progression_GWAS\n",
    "for i in \"DIGPD_chip\" \"DIGPD_neuroX\";do\n",
    "    for j in {1..22};do\n",
    "        zless $IN/$i/chr\"$j\".info.gz | awk '{if ($5>0.05 && $7>0.8){print $1,$4,$7}}' >\\\n",
    "            /data/LNG/Hirotaka/progGWAS/SNPfilter/\"$i\"_maf05rsq8_chr\"$j\".info\n",
    "        echo \"/data/LNG/Hirotaka/progGWAS/SNPfilter/\"$i\"_maf05rsq8_chr\"$j\".info\"\n",
    "    done\n",
    "done\n",
    "OUT=/data/LNG/Hirotaka/progGWAS2nd\n",
    "for i in \"DIGPD_chip\" \"DIGPD_neuroX\";do\n",
    "    cat /data/LNG/Hirotaka/progGWAS/SNPfilter/\"$i\"_maf05rsq8_chr*.info > $OUT/selected/\"$i\".info\n",
    "    echo $i finish\n",
    "done"
   ]
  },
  {
   "cell_type": "code",
   "execution_count": 31,
   "metadata": {},
   "outputs": [
    {
     "name": "stdout",
     "output_type": "stream",
     "text": [
      "    659239 /data/LNG/Hirotaka/progGWAS2nd/selected/CORIELL.info\n",
      "   5359628 /data/LNG/Hirotaka/progGWAS2nd/selected/DATATOP.info\n",
      "   5324526 /data/LNG/Hirotaka/progGWAS2nd/selected/DIGPD_chip.info\n",
      "    622537 /data/LNG/Hirotaka/progGWAS2nd/selected/DIGPD_neuroX.info\n",
      "    696578 /data/LNG/Hirotaka/progGWAS2nd/selected/HBS.info\n",
      "   5350643 /data/LNG/Hirotaka/progGWAS2nd/selected/OSLO.info\n",
      "   5342177 /data/LNG/Hirotaka/progGWAS2nd/selected/PARKFIT.info\n",
      "   5350530 /data/LNG/Hirotaka/progGWAS2nd/selected/PARKWEST.info\n",
      "    702477 /data/LNG/Hirotaka/progGWAS2nd/selected/PDBP.info\n",
      "   5356087 /data/LNG/Hirotaka/progGWAS2nd/selected/PICNICS.info\n",
      "    655719 /data/LNG/Hirotaka/progGWAS2nd/selected/PPMI.info\n",
      "    654992 /data/LNG/Hirotaka/progGWAS2nd/selected/PRECEPT.info\n",
      "   5342968 /data/LNG/Hirotaka/progGWAS2nd/selected/SCOPA.info\n",
      "  41418101 total\n"
     ]
    }
   ],
   "source": [
    "%%bash\n",
    "OUT=/data/LNG/Hirotaka/progGWAS2nd\n",
    "wc $OUT/selected/* -l"
   ]
  },
  {
   "cell_type": "code",
   "execution_count": 25,
   "metadata": {},
   "outputs": [],
   "source": []
  },
  {
   "cell_type": "code",
   "execution_count": null,
   "metadata": {},
   "outputs": [],
   "source": []
  }
 ],
 "metadata": {
  "kernelspec": {
   "display_name": "Python 3",
   "language": "python",
   "name": "python3"
  },
  "language_info": {
   "codemirror_mode": {
    "name": "ipython",
    "version": 3
   },
   "file_extension": ".py",
   "mimetype": "text/x-python",
   "name": "python",
   "nbconvert_exporter": "python",
   "pygments_lexer": "ipython3",
   "version": "3.5.5"
  }
 },
 "nbformat": 4,
 "nbformat_minor": 2
}
